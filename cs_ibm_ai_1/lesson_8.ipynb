{
 "cells": [
  {
   "cell_type": "markdown",
   "metadata": {},
   "source": [
    "# Linear Regression 1D"
   ]
  },
  {
   "cell_type": "code",
   "execution_count": 1,
   "metadata": {},
   "outputs": [],
   "source": [
    "import torch\n"
   ]
  },
  {
   "cell_type": "code",
   "execution_count": 4,
   "metadata": {},
   "outputs": [
    {
     "data": {
      "text/plain": [
       "tensor([[1.]], grad_fn=<AddBackward0>)"
      ]
     },
     "execution_count": 4,
     "metadata": {},
     "output_type": "execute_result"
    }
   ],
   "source": [
    "# Define w = 2 and b = -1 for y = wx + b\n",
    "\n",
    "w = torch.tensor(2.0, requires_grad=True)\n",
    "b = torch.tensor(-1.0, requires_grad=True)\n",
    "\n",
    "def forward(x):\n",
    "    yhat = w * x + b\n",
    "    return yhat\n",
    "\n",
    "forward(torch.tensor([[1.0]]))"
   ]
  },
  {
   "cell_type": "code",
   "execution_count": 9,
   "metadata": {},
   "outputs": [
    {
     "name": "stdout",
     "output_type": "stream",
     "text": [
      "shape:  torch.Size([2, 1])\n",
      "dimension:  2\n"
     ]
    }
   ],
   "source": [
    "x = torch.tensor([[1.0],[2.0]])\n",
    "forward(x)\n",
    "print('shape: ', forward(x).shape)\n",
    "print('dimension: ', forward(x).ndimension())"
   ]
  },
  {
   "cell_type": "markdown",
   "metadata": {},
   "source": [
    "### Class Linear"
   ]
  },
  {
   "cell_type": "code",
   "execution_count": 10,
   "metadata": {},
   "outputs": [],
   "source": [
    "from torch.nn import Linear"
   ]
  },
  {
   "cell_type": "code",
   "execution_count": 11,
   "metadata": {},
   "outputs": [
    {
     "data": {
      "text/plain": [
       "<torch._C.Generator at 0x7f16c4fb3eb0>"
      ]
     },
     "execution_count": 11,
     "metadata": {},
     "output_type": "execute_result"
    }
   ],
   "source": [
    "# Set random seed\n",
    "torch.manual_seed(1)\n"
   ]
  },
  {
   "cell_type": "code",
   "execution_count": 27,
   "metadata": {},
   "outputs": [
    {
     "name": "stdout",
     "output_type": "stream",
     "text": [
      "[Parameter containing:\n",
      "tensor([[0.2794]], requires_grad=True), Parameter containing:\n",
      "tensor([0.9486], requires_grad=True)]\n",
      "OrderedDict([('weight', tensor([[0.2794]])), ('bias', tensor([0.9486]))])\n",
      "odict_keys(['weight', 'bias'])\n",
      "odict_values([tensor([[0.2794]]), tensor([0.9486])])\n",
      "weight:  Parameter containing:\n",
      "tensor([[0.2794]], requires_grad=True)\n",
      "bias:  Parameter containing:\n",
      "tensor([0.9486], requires_grad=True)\n",
      "prediction:  tensor([[1.2279],\n",
      "        [1.5073]], grad_fn=<AddmmBackward>)\n"
     ]
    }
   ],
   "source": [
    "lr = Linear(in_features=1, out_features=1, bias=True)\n",
    "print(list(lr.parameters()))\n",
    "print(lr.state_dict())\n",
    "print(lr.state_dict().keys())\n",
    "print(lr.state_dict().values())\n",
    "\n",
    "print('weight: ', lr.weight)\n",
    "print('bias: ', lr.bias)\n",
    "\n",
    "x = torch.tensor([[1.0], [2.0]])\n",
    "print('prediction: ', lr(x))"
   ]
  },
  {
   "cell_type": "markdown",
   "metadata": {},
   "source": [
    "### Build Custom Modules"
   ]
  },
  {
   "cell_type": "code",
   "execution_count": 28,
   "metadata": {},
   "outputs": [],
   "source": [
    "from torch import nn\n"
   ]
  },
  {
   "cell_type": "code",
   "execution_count": 29,
   "metadata": {},
   "outputs": [],
   "source": [
    "# Customize regression class\n",
    "\n",
    "class LR(nn.Module):\n",
    "    \n",
    "    # Constructor\n",
    "    def __init__(self, input_size, output_size):\n",
    "        \n",
    "        # Inherit from parent\n",
    "        super(LR, self).__init__()\n",
    "        self.linear = nn.Linear(input_size, output_size)\n",
    "        \n",
    "    # Prediction function\n",
    "    def forward(self, x):\n",
    "        out = self.linear(x)\n",
    "        return out\n",
    "    "
   ]
  },
  {
   "cell_type": "code",
   "execution_count": 37,
   "metadata": {},
   "outputs": [
    {
     "name": "stdout",
     "output_type": "stream",
     "text": [
      "[Parameter containing:\n",
      "tensor([[-0.5308]], requires_grad=True), Parameter containing:\n",
      "tensor([0.2941], requires_grad=True)]\n",
      "Linear(in_features=1, out_features=1, bias=True)\n",
      "prediction:  tensor([[-0.2367],\n",
      "        [-0.7675],\n",
      "        [-1.2984]], grad_fn=<AddmmBackward>)\n",
      "dict:  OrderedDict([('linear.weight', tensor([[-0.5308]])), ('linear.bias', tensor([0.2941]))])\n",
      "keys:  odict_keys(['linear.weight', 'linear.bias'])\n",
      "values:  odict_values([tensor([[-0.5308]]), tensor([0.2941])])\n"
     ]
    }
   ],
   "source": [
    "# Linear regression model\n",
    "\n",
    "lr = LR(1,1)\n",
    "print(list(lr.parameters()))\n",
    "print(lr.linear)\n",
    "\n",
    "x = torch.tensor([[1.0],[2.0],[3.0]])\n",
    "yhat = lr(x)\n",
    "print('prediction: ', yhat)\n",
    "print('dict: ', lr.state_dict())\n",
    "print('keys: ', lr.state_dict().keys())\n",
    "print('values: ', lr.state_dict().values())"
   ]
  }
 ],
 "metadata": {
  "kernelspec": {
   "display_name": "Python 3",
   "language": "python",
   "name": "python3"
  },
  "language_info": {
   "codemirror_mode": {
    "name": "ipython",
    "version": 3
   },
   "file_extension": ".py",
   "mimetype": "text/x-python",
   "name": "python",
   "nbconvert_exporter": "python",
   "pygments_lexer": "ipython3",
   "version": "3.7.4"
  }
 },
 "nbformat": 4,
 "nbformat_minor": 2
}
