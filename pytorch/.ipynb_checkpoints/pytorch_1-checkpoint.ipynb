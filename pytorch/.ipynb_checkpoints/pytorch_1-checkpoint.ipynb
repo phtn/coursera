{
 "cells": [
  {
   "cell_type": "code",
   "execution_count": 3,
   "metadata": {},
   "outputs": [
    {
     "data": {
      "text/plain": [
       "'1.3.1'"
      ]
     },
     "execution_count": 3,
     "metadata": {},
     "output_type": "execute_result"
    }
   ],
   "source": [
    "import torch\n",
    "torch.__version__"
   ]
  },
  {
   "cell_type": "code",
   "execution_count": 5,
   "metadata": {},
   "outputs": [
    {
     "data": {
      "text/plain": [
       "tensor([[0.7108, 0.5106, 0.8176],\n",
       "        [0.5712, 0.9970, 0.2017],\n",
       "        [0.3289, 0.0338, 0.1292],\n",
       "        [0.7628, 0.5127, 0.2492],\n",
       "        [0.4591, 0.1815, 0.8708]])"
      ]
     },
     "execution_count": 5,
     "metadata": {},
     "output_type": "execute_result"
    }
   ],
   "source": [
    "torch.rand([5,3])"
   ]
  },
  {
   "cell_type": "code",
   "execution_count": 7,
   "metadata": {},
   "outputs": [
    {
     "data": {
      "text/plain": [
       "tensor([[0., 0., 0.],\n",
       "        [0., 0., 0.],\n",
       "        [0., 0., 0.],\n",
       "        [0., 0., 0.],\n",
       "        [0., 0., 0.]])"
      ]
     },
     "execution_count": 7,
     "metadata": {},
     "output_type": "execute_result"
    }
   ],
   "source": [
    "torch.zeros([5,3])"
   ]
  },
  {
   "cell_type": "code",
   "execution_count": 10,
   "metadata": {},
   "outputs": [
    {
     "name": "stdout",
     "output_type": "stream",
     "text": [
      "tensor([[0.1840, 0.7922, 0.8026, 0.0185, 0.9572, 0.0863],\n",
      "        [0.0930, 0.3576, 0.1285, 0.1349, 0.5765, 0.2387],\n",
      "        [0.6338, 0.4189, 0.1721, 0.7377, 0.2846, 0.0811],\n",
      "        [0.5557, 0.1249, 0.5760, 0.8969, 0.1618, 0.5806],\n",
      "        [0.9927, 0.2648, 0.2120, 0.5777, 0.9350, 0.0282],\n",
      "        [0.4691, 0.4026, 0.7275, 0.6459, 0.1899, 0.9343]])\n"
     ]
    }
   ],
   "source": [
    "x = torch.rand([6,6])\n",
    "print(x)"
   ]
  },
  {
   "cell_type": "code",
   "execution_count": 16,
   "metadata": {},
   "outputs": [
    {
     "name": "stdout",
     "output_type": "stream",
     "text": [
      "tensor([[1., 1., 1.],\n",
      "        [1., 1., 1.],\n",
      "        [1., 1., 1.],\n",
      "        [1., 1., 1.],\n",
      "        [1., 1., 1.]])\n"
     ]
    }
   ],
   "source": [
    "x = x.new_ones([5,3])\n",
    "print(x)"
   ]
  },
  {
   "cell_type": "code",
   "execution_count": 19,
   "metadata": {},
   "outputs": [
    {
     "name": "stdout",
     "output_type": "stream",
     "text": [
      "torch.Size([5, 3])\n"
     ]
    }
   ],
   "source": [
    "print(x.size())"
   ]
  },
  {
   "cell_type": "code",
   "execution_count": 24,
   "metadata": {},
   "outputs": [
    {
     "name": "stdout",
     "output_type": "stream",
     "text": [
      "tensor([[0.9756, 0.8408, 0.3222],\n",
      "        [0.8375, 0.1193, 0.4786],\n",
      "        [0.1950, 0.1130, 0.2692],\n",
      "        [0.7829, 0.5832, 0.7920],\n",
      "        [0.1895, 0.4675, 0.1217]])\n"
     ]
    }
   ],
   "source": [
    "y = torch.rand([5,3])\n",
    "print(y)"
   ]
  },
  {
   "cell_type": "code",
   "execution_count": 27,
   "metadata": {},
   "outputs": [
    {
     "name": "stdout",
     "output_type": "stream",
     "text": [
      "tensor([[1.9756, 1.8408, 1.3222],\n",
      "        [1.8375, 1.1193, 1.4786],\n",
      "        [1.1950, 1.1130, 1.2692],\n",
      "        [1.7829, 1.5832, 1.7920],\n",
      "        [1.1895, 1.4675, 1.1217]])\n"
     ]
    }
   ],
   "source": [
    "# Addition 1\n",
    "\n",
    "print(x+y)"
   ]
  },
  {
   "cell_type": "code",
   "execution_count": 29,
   "metadata": {},
   "outputs": [
    {
     "name": "stdout",
     "output_type": "stream",
     "text": [
      "tensor([[1.9756, 1.8408, 1.3222],\n",
      "        [1.8375, 1.1193, 1.4786],\n",
      "        [1.1950, 1.1130, 1.2692],\n",
      "        [1.7829, 1.5832, 1.7920],\n",
      "        [1.1895, 1.4675, 1.1217]])\n"
     ]
    }
   ],
   "source": [
    "# Addition 2\n",
    "print(torch.add(x,y))"
   ]
  },
  {
   "cell_type": "code",
   "execution_count": 31,
   "metadata": {},
   "outputs": [
    {
     "name": "stdout",
     "output_type": "stream",
     "text": [
      "tensor([[1.9756, 1.8408, 1.3222],\n",
      "        [1.8375, 1.1193, 1.4786],\n",
      "        [1.1950, 1.1130, 1.2692],\n",
      "        [1.7829, 1.5832, 1.7920],\n",
      "        [1.1895, 1.4675, 1.1217]])\n"
     ]
    }
   ],
   "source": [
    "# Addition with output tensors\n",
    "result = torch.empty([5,3])\n",
    "torch.add(x,y, out=result)\n",
    "print(result)"
   ]
  },
  {
   "cell_type": "code",
   "execution_count": 34,
   "metadata": {},
   "outputs": [
    {
     "name": "stdout",
     "output_type": "stream",
     "text": [
      "tensor([[3.9756, 3.8408, 3.3222],\n",
      "        [3.8375, 3.1193, 3.4786],\n",
      "        [3.1950, 3.1130, 3.2692],\n",
      "        [3.7829, 3.5832, 3.7920],\n",
      "        [3.1895, 3.4675, 3.1217]])\n"
     ]
    }
   ],
   "source": [
    "# Addition in-place (adds x to y)\n",
    "y.add_(x)\n",
    "print(y)"
   ]
  },
  {
   "cell_type": "code",
   "execution_count": 45,
   "metadata": {},
   "outputs": [
    {
     "name": "stdout",
     "output_type": "stream",
     "text": [
      "tensor([3.3222, 3.4786, 3.2692, 3.7920, 3.1217])\n"
     ]
    }
   ],
   "source": [
    "# numpy like indexing\n",
    "print(y[:,2])"
   ]
  },
  {
   "cell_type": "code",
   "execution_count": 72,
   "metadata": {},
   "outputs": [
    {
     "name": "stdout",
     "output_type": "stream",
     "text": [
      "tensor([-1.0742])\n",
      "-1.0742021799087524\n"
     ]
    }
   ],
   "source": [
    "z = torch.randn(1)\n",
    "print(z)\n",
    "print(z.item())"
   ]
  },
  {
   "cell_type": "code",
   "execution_count": 75,
   "metadata": {},
   "outputs": [
    {
     "name": "stdout",
     "output_type": "stream",
     "text": [
      "tensor([[0.3183],\n",
      "        [0.1934],\n",
      "        [0.2431],\n",
      "        [0.1219]])\n"
     ]
    }
   ],
   "source": [
    "# a is a tensor\n",
    "a = torch.rand([4,1])\n",
    "print(a)"
   ]
  },
  {
   "cell_type": "code",
   "execution_count": 84,
   "metadata": {},
   "outputs": [
    {
     "name": "stdout",
     "output_type": "stream",
     "text": [
      "tensor([1., 1., 1., 1., 1.])\n",
      "[1. 1. 1. 1. 1.]\n"
     ]
    }
   ],
   "source": [
    "# Convert tensors to numpy array\n",
    "# b is a tensor\n",
    "# c is np.array\n",
    "b = torch.ones(5)\n",
    "print(b)\n",
    "c = b.numpy()\n",
    "print(type(c))"
   ]
  },
  {
   "cell_type": "code",
   "execution_count": 82,
   "metadata": {},
   "outputs": [
    {
     "name": "stdout",
     "output_type": "stream",
     "text": [
      "tensor([2., 2., 2., 2., 2.])\n",
      "tensor([4., 4., 4., 4., 4.])\n"
     ]
    }
   ],
   "source": [
    "# Convert numpy array to tensors\n",
    "import numpy as np\n",
    "d = torch.from_numpy(c)\n",
    "print(d)\n",
    "np.add(d, b, out=c)\n",
    "print(b)\n"
   ]
  },
  {
   "cell_type": "code",
   "execution_count": null,
   "metadata": {},
   "outputs": [],
   "source": []
  }
 ],
 "metadata": {
  "kernelspec": {
   "display_name": "Python 3",
   "language": "python",
   "name": "python3"
  },
  "language_info": {
   "codemirror_mode": {
    "name": "ipython",
    "version": 3
   },
   "file_extension": ".py",
   "mimetype": "text/x-python",
   "name": "python",
   "nbconvert_exporter": "python",
   "pygments_lexer": "ipython3",
   "version": "3.7.4"
  }
 },
 "nbformat": 4,
 "nbformat_minor": 2
}
