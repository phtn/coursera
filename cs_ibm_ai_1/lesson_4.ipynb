{
 "cells": [
  {
   "cell_type": "code",
   "execution_count": 2,
   "metadata": {},
   "outputs": [],
   "source": [
    "import torch\n",
    "import matplotlib.pylab as plt"
   ]
  },
  {
   "cell_type": "markdown",
   "metadata": {},
   "source": [
    "#### Derivatives"
   ]
  },
  {
   "cell_type": "code",
   "execution_count": 16,
   "metadata": {},
   "outputs": [
    {
     "name": "stdout",
     "output_type": "stream",
     "text": [
      "tensor(25., grad_fn=<PowBackward0>)\n",
      "tensor(10.)\n",
      "tensor(5.)\n",
      "None\n",
      "True\n",
      "True\n"
     ]
    }
   ],
   "source": [
    "# create a tensor x\n",
    "\n",
    "x = torch.tensor(5.0, requires_grad=True)\n",
    "\n",
    "# y(x) = x^2\n",
    "\n",
    "y = x**2\n",
    "\n",
    "print(y)\n",
    "\n",
    "y.backward()\n",
    "print(x.grad)\n",
    "print(x.data)\n",
    "print(x.grad_fn)\n",
    "print(x.is_leaf)\n",
    "print(x.requires_grad)"
   ]
  },
  {
   "cell_type": "markdown",
   "metadata": {},
   "source": [
    "$y(x) = x^2+2x+1$"
   ]
  },
  {
   "cell_type": "code",
   "execution_count": 20,
   "metadata": {},
   "outputs": [
    {
     "name": "stdout",
     "output_type": "stream",
     "text": [
      "tensor(9., grad_fn=<AddBackward0>)\n",
      "tensor(6.)\n"
     ]
    }
   ],
   "source": [
    "x = torch.tensor(2.0, requires_grad=True)\n",
    "y = x**2 + 2*x + 1\n",
    "\n",
    "print(y)\n",
    "\n",
    "y.backward()\n",
    "\n",
    "print(x.grad)"
   ]
  }
 ],
 "metadata": {
  "kernelspec": {
   "display_name": "Python 3",
   "language": "python",
   "name": "python3"
  },
  "language_info": {
   "codemirror_mode": {
    "name": "ipython",
    "version": 3
   },
   "file_extension": ".py",
   "mimetype": "text/x-python",
   "name": "python",
   "nbconvert_exporter": "python",
   "pygments_lexer": "ipython3",
   "version": "3.7.4"
  }
 },
 "nbformat": 4,
 "nbformat_minor": 2
}
