{
 "cells": [
  {
   "cell_type": "markdown",
   "metadata": {},
   "source": [
    "# Differentiation"
   ]
  },
  {
   "cell_type": "code",
   "execution_count": 13,
   "metadata": {},
   "outputs": [],
   "source": [
    "import torch"
   ]
  },
  {
   "cell_type": "markdown",
   "metadata": {},
   "source": [
    "## Derivatives"
   ]
  },
  {
   "cell_type": "markdown",
   "metadata": {},
   "source": [
    "A quadratic equation\n",
    "\n",
    "$y(x)=x^{2}$"
   ]
  },
  {
   "cell_type": "code",
   "execution_count": 26,
   "metadata": {},
   "outputs": [
    {
     "name": "stdout",
     "output_type": "stream",
     "text": [
      "4\n"
     ]
    }
   ],
   "source": [
    "# in python\n",
    "\n",
    "def y(x):\n",
    "    return x ** 2 \n",
    "\n",
    "# in algebra this is called a quadratic equation\n",
    "\n",
    "print(y(2)) # x=2 will result to 4 "
   ]
  },
  {
   "cell_type": "markdown",
   "metadata": {},
   "source": [
    "A derivative of the same function\n",
    "\n",
    "$\\frac{dy(x)}{dx} = x^2$\n",
    "\n",
    "according to calculus, to get the derivative of `x` from the equation above, take the power of `x` and bring it in  front of `x` then reduce the power by `1`\n",
    "\n",
    "*as shown below:*\n",
    "\n",
    "$\\frac{dy(x)}{dx} = 2x^1$"
   ]
  },
  {
   "cell_type": "markdown",
   "metadata": {},
   "source": [
    "*...in **Pytorch** we can get the derivative like so:*"
   ]
  },
  {
   "cell_type": "code",
   "execution_count": 28,
   "metadata": {},
   "outputs": [
    {
     "name": "stdout",
     "output_type": "stream",
     "text": [
      "tensor(4.)\n"
     ]
    }
   ],
   "source": [
    "x=torch.tensor(2.0, requires_grad=True)\n",
    "y=x**2\n",
    "y.backward()\n",
    "x.grad\n",
    "print(x.grad)"
   ]
  },
  {
   "cell_type": "markdown",
   "metadata": {},
   "source": [
    "*lets try a different parameter:*\n",
    "\n",
    "x = 3"
   ]
  },
  {
   "cell_type": "markdown",
   "metadata": {},
   "source": [
    "$\\frac{dy(x)}{dx} = x^3 = \\frac{dy(x)}{dx} = 3x^2$"
   ]
  },
  {
   "cell_type": "code",
   "execution_count": 33,
   "metadata": {},
   "outputs": [
    {
     "name": "stdout",
     "output_type": "stream",
     "text": [
      "tensor(27.)\n"
     ]
    }
   ],
   "source": [
    "x=torch.tensor(3.0, requires_grad=True)\n",
    "y=x**3\n",
    "y.backward()\n",
    "x.grad\n",
    "print(x.grad)"
   ]
  },
  {
   "cell_type": "markdown",
   "metadata": {},
   "source": [
    "heres another example\n",
    "\n",
    "*consider the equation:*\n",
    "\n",
    "$z(x) = x^2 + 2x + 1$\n",
    "\n",
    "`x=2`\n",
    "\n",
    "$z(2) = 2^2 + 2(2) + 1 = 9$\n",
    "\n",
    "to get the derivative\n",
    "\n",
    "$\\frac{dz(x)}{dx} = 2x + 2x^0 + 1^0$\n",
    "\n",
    "$\\frac{dz(x)}{dx} = 2x + 2$\n",
    "\n",
    "$\\frac{dz(2)}{dx} = 2(2) + 2 = 6$\n"
   ]
  },
  {
   "cell_type": "markdown",
   "metadata": {},
   "source": [
    "Now let's try to do it in Pytorch"
   ]
  },
  {
   "cell_type": "code",
   "execution_count": 35,
   "metadata": {},
   "outputs": [
    {
     "name": "stdout",
     "output_type": "stream",
     "text": [
      "tensor(6.)\n"
     ]
    }
   ],
   "source": [
    "x = torch.tensor(2.0, requires_grad=True)\n",
    "z = x**2 + 2*x + 1\n",
    "z.backward()\n",
    "print(x.grad)"
   ]
  },
  {
   "cell_type": "markdown",
   "metadata": {},
   "source": [
    "### to get the derivative in pytorch, `requires_grad=True` should be set"
   ]
  },
  {
   "cell_type": "markdown",
   "metadata": {},
   "source": [
    "## Partial Derivatives"
   ]
  },
  {
   "cell_type": "markdown",
   "metadata": {},
   "source": [
    "here we have a function with 2 parameters\n",
    "\n",
    "$f(u, v) = uv + u^2$\n",
    "\n",
    "$\\frac{\\partial f(u,v)}{\\partial u} = v + 2u$\n",
    "\n",
    "$\\frac{\\partial f(u,v)}{\\partial v} = u$"
   ]
  },
  {
   "cell_type": "markdown",
   "metadata": {},
   "source": [
    "`u=1` & `v=2`"
   ]
  },
  {
   "cell_type": "code",
   "execution_count": 37,
   "metadata": {},
   "outputs": [
    {
     "name": "stdout",
     "output_type": "stream",
     "text": [
      "tensor(4.)\n",
      "tensor(1.)\n"
     ]
    }
   ],
   "source": [
    "u = torch.tensor(1.0, requires_grad=True)\n",
    "v = torch.tensor(2.0, requires_grad=True)\n",
    "f = u*v + u**2\n",
    "f.backward()\n",
    "print(u.grad)\n",
    "print(v.grad)"
   ]
  },
  {
   "cell_type": "code",
   "execution_count": null,
   "metadata": {},
   "outputs": [],
   "source": []
  }
 ],
 "metadata": {
  "kernelspec": {
   "display_name": "Python 3",
   "language": "python",
   "name": "python3"
  },
  "language_info": {
   "codemirror_mode": {
    "name": "ipython",
    "version": 3
   },
   "file_extension": ".py",
   "mimetype": "text/x-python",
   "name": "python",
   "nbconvert_exporter": "python",
   "pygments_lexer": "ipython3",
   "version": "3.7.4"
  }
 },
 "nbformat": 4,
 "nbformat_minor": 2
}
