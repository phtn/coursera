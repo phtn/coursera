{
 "cells": [
  {
   "cell_type": "code",
   "execution_count": 34,
   "metadata": {},
   "outputs": [],
   "source": [
    "import torch"
   ]
  },
  {
   "cell_type": "code",
   "execution_count": 12,
   "metadata": {},
   "outputs": [],
   "source": [
    "# The Basics"
   ]
  },
  {
   "cell_type": "code",
   "execution_count": 35,
   "metadata": {},
   "outputs": [
    {
     "data": {
      "text/html": [
       "<div>\n",
       "<style scoped>\n",
       "    .dataframe tbody tr th:only-of-type {\n",
       "        vertical-align: middle;\n",
       "    }\n",
       "\n",
       "    .dataframe tbody tr th {\n",
       "        vertical-align: top;\n",
       "    }\n",
       "\n",
       "    .dataframe thead th {\n",
       "        text-align: right;\n",
       "    }\n",
       "</style>\n",
       "<table border=\"1\" class=\"dataframe\">\n",
       "  <thead>\n",
       "    <tr style=\"text-align: right;\">\n",
       "      <th></th>\n",
       "      <th>Data Type</th>\n",
       "      <th>dtype</th>\n",
       "      <th>Tensor type</th>\n",
       "    </tr>\n",
       "  </thead>\n",
       "  <tbody>\n",
       "    <tr>\n",
       "      <td>0</td>\n",
       "      <td>32-bit floating point</td>\n",
       "      <td>torch.float32 or torch.float</td>\n",
       "      <td>torch.*.FloatTensor</td>\n",
       "    </tr>\n",
       "    <tr>\n",
       "      <td>1</td>\n",
       "      <td>64-bit floating point</td>\n",
       "      <td>torch.float or torch.double</td>\n",
       "      <td>torch.*.DoubleTensor</td>\n",
       "    </tr>\n",
       "    <tr>\n",
       "      <td>2</td>\n",
       "      <td>16-bit floating point</td>\n",
       "      <td>torch.float16 or torch.half</td>\n",
       "      <td>torch.*.ByteTensor</td>\n",
       "    </tr>\n",
       "    <tr>\n",
       "      <td>3</td>\n",
       "      <td>8-bit integer (unsigned)</td>\n",
       "      <td>torch.uint8</td>\n",
       "      <td>torch.*.ByteTensor</td>\n",
       "    </tr>\n",
       "    <tr>\n",
       "      <td>4</td>\n",
       "      <td>8-bit integer (signed)</td>\n",
       "      <td>torch.int8</td>\n",
       "      <td>torch.*.CharTensor</td>\n",
       "    </tr>\n",
       "    <tr>\n",
       "      <td>5</td>\n",
       "      <td>16-bit integer (signed)</td>\n",
       "      <td>torch.int16 or torch.short</td>\n",
       "      <td>torch.ShortTensor</td>\n",
       "    </tr>\n",
       "    <tr>\n",
       "      <td>6</td>\n",
       "      <td>32-bit integer (signed)</td>\n",
       "      <td>torch.int32 or torch.int</td>\n",
       "      <td>torch.*.IntTensor</td>\n",
       "    </tr>\n",
       "    <tr>\n",
       "      <td>7</td>\n",
       "      <td>64-bit integer (signed)</td>\n",
       "      <td>torch.int64 or torch.long</td>\n",
       "      <td>torch.*.LongTensor</td>\n",
       "    </tr>\n",
       "  </tbody>\n",
       "</table>\n",
       "</div>"
      ],
      "text/plain": [
       "                  Data Type                          dtype  \\\n",
       "0     32-bit floating point   torch.float32 or torch.float   \n",
       "1     64-bit floating point    torch.float or torch.double   \n",
       "2     16-bit floating point    torch.float16 or torch.half   \n",
       "3  8-bit integer (unsigned)                    torch.uint8   \n",
       "4    8-bit integer (signed)                     torch.int8   \n",
       "5   16-bit integer (signed)     torch.int16 or torch.short   \n",
       "6   32-bit integer (signed)       torch.int32 or torch.int   \n",
       "7   64-bit integer (signed)      torch.int64 or torch.long   \n",
       "\n",
       "             Tensor type  \n",
       "0    torch.*.FloatTensor  \n",
       "1   torch.*.DoubleTensor  \n",
       "2     torch.*.ByteTensor  \n",
       "3     torch.*.ByteTensor  \n",
       "4     torch.*.CharTensor  \n",
       "5      torch.ShortTensor  \n",
       "6      torch.*.IntTensor  \n",
       "7     torch.*.LongTensor  "
      ]
     },
     "execution_count": 35,
     "metadata": {},
     "output_type": "execute_result"
    }
   ],
   "source": [
    "# 1D Tensor\n",
    "\n",
    "import pandas as pd\n",
    "\n",
    "# Data Types\n",
    "pd.read_csv('data_types.csv')"
   ]
  },
  {
   "cell_type": "code",
   "execution_count": 43,
   "metadata": {},
   "outputs": [
    {
     "name": "stdout",
     "output_type": "stream",
     "text": [
      "torch.int64\n",
      "torch.LongTensor\n"
     ]
    }
   ],
   "source": [
    "a = torch.tensor([0,1,2])\n",
    "print(a.dtype) # tensor data type\n",
    "print(a.type()) # built-in method type of tensor"
   ]
  },
  {
   "cell_type": "code",
   "execution_count": 58,
   "metadata": {},
   "outputs": [
    {
     "name": "stdout",
     "output_type": "stream",
     "text": [
      "dtype:  torch.float32\n",
      "type:  torch.FloatTensor\n"
     ]
    }
   ],
   "source": [
    "# float tensor\n",
    "b = torch.tensor([1.0,2.0,3.0])\n",
    "print(\"dtype: \", b.dtype) # default float is float32 unless specified\n",
    "print(\"type: \", b.type()) # built-in method type of tensor"
   ]
  },
  {
   "cell_type": "code",
   "execution_count": 52,
   "metadata": {},
   "outputs": [
    {
     "data": {
      "text/plain": [
       "tensor([0, 1, 1], dtype=torch.int32)"
      ]
     },
     "execution_count": 52,
     "metadata": {},
     "output_type": "execute_result"
    }
   ],
   "source": [
    "# specify data type through declaration\n",
    "c = torch.tensor([0.5,1.0,1.5], dtype=torch.int32)\n",
    "c"
   ]
  },
  {
   "cell_type": "code",
   "execution_count": 62,
   "metadata": {},
   "outputs": [
    {
     "name": "stdout",
     "output_type": "stream",
     "text": [
      "dtype:  torch.float32\n",
      "type:  torch.FloatTensor\n"
     ]
    },
    {
     "data": {
      "text/plain": [
       "tensor([1., 2., 3.])"
      ]
     },
     "execution_count": 62,
     "metadata": {},
     "output_type": "execute_result"
    }
   ],
   "source": [
    "# converting int to float\n",
    "d = torch.FloatTensor([1,2,3])\n",
    "print(\"dtype: \", d.dtype) # dtype: torch.float32\n",
    "print(\"type: \", d.type()) # type: torch.FloatTensor\n",
    "\n",
    "d # notice to decimal point added after the number?"
   ]
  },
  {
   "cell_type": "code",
   "execution_count": 63,
   "metadata": {},
   "outputs": [
    {
     "data": {
      "text/plain": [
       "torch.float32"
      ]
     },
     "execution_count": 63,
     "metadata": {},
     "output_type": "execute_result"
    }
   ],
   "source": [
    "e = torch.tensor([1,2,3])\n",
    "f = e.type(torch.float32)\n",
    "f.dtype"
   ]
  },
  {
   "cell_type": "code",
   "execution_count": 81,
   "metadata": {},
   "outputs": [
    {
     "name": "stdout",
     "output_type": "stream",
     "text": [
      "tensor(1)\n",
      "tensor(2)\n",
      "tensor(3)\n",
      "tensor(2)\n",
      "2\n"
     ]
    }
   ],
   "source": [
    "# you can assign a tensor variable to another one to manipulate values without mutating the original variable.\n",
    "# which in this case \"e\" remains \"[1,2,3]\".\n",
    "\n",
    "first_e = e\n",
    "\n",
    "print(first_e[0]) # tensor(1)\n",
    "print(e[1]) # tensor(2)\n",
    "print(e[1] + 1) # tensor(3)\n",
    "print(e[1])  # tensor(2)\n",
    "\n",
    "print(e[1].item())  # 2"
   ]
  },
  {
   "cell_type": "code",
   "execution_count": 103,
   "metadata": {},
   "outputs": [
    {
     "name": "stdout",
     "output_type": "stream",
     "text": [
      "tensor(1.)\n",
      "1.0\n"
     ]
    }
   ],
   "source": [
    "# assigning a new value\n",
    "f[0] # tensor(1.)\n",
    "f[0] = 1\n",
    "print(f[0]) # tensor(100.)\n",
    "print(f[0].item()) # 100.0"
   ]
  },
  {
   "cell_type": "code",
   "execution_count": 116,
   "metadata": {},
   "outputs": [
    {
     "name": "stdout",
     "output_type": "stream",
     "text": [
      "tensor([1, 2, 3])\n",
      "tensor([1])\n",
      "tensor([1, 2])\n"
     ]
    }
   ],
   "source": [
    "# slicing\n",
    "g = f.type(torch.int64)\n",
    "# vector slicing \"worm, tail not included\".\n",
    "print(g) # tensor([1, 2, 3])\n",
    "print(g[0:1]) # tensor([1]))\n",
    "print(g[0:2]) # tensor([1, 2]))\n",
    "\n",
    "# result vector slicing includes first index but leaves out the last index.\n",
    "\n",
    "######\n",
    "#######\n",
    "\n",
    "# it looks like a worm with a tail and in slicing it leaves OUT the tail"
   ]
  },
  {
   "cell_type": "code",
   "execution_count": 64,
   "metadata": {},
   "outputs": [
    {
     "data": {
      "text/plain": [
       "tensor(1)"
      ]
     },
     "execution_count": 64,
     "metadata": {},
     "output_type": "execute_result"
    }
   ],
   "source": [
    "\n",
    "\n",
    "\n",
    "\n",
    "\n",
    "\n",
    "\n",
    "\n",
    "\n",
    "\n",
    "\n",
    "\n",
    "\n",
    "\n",
    "\n",
    "\n",
    "\n",
    "\n",
    "\n",
    "\n",
    "\n",
    "\n",
    "\n",
    "\n",
    "\n",
    "\n",
    "\n",
    "\n",
    "\n",
    "\n",
    "\n",
    "\n",
    "\n",
    "\n",
    "\n",
    "\n",
    "\n",
    "\n",
    "\n",
    "\n",
    "\n",
    "\n"
   ]
  }
 ],
 "metadata": {
  "kernelspec": {
   "display_name": "Python 3",
   "language": "python",
   "name": "python3"
  },
  "language_info": {
   "codemirror_mode": {
    "name": "ipython",
    "version": 3
   },
   "file_extension": ".py",
   "mimetype": "text/x-python",
   "name": "python",
   "nbconvert_exporter": "python",
   "pygments_lexer": "ipython3",
   "version": "3.7.4"
  }
 },
 "nbformat": 4,
 "nbformat_minor": 2
}
