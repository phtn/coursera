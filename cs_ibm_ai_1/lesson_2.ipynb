{
 "cells": [
  {
   "cell_type": "code",
   "execution_count": null,
   "metadata": {},
   "outputs": [],
   "source": [
    "# 2d Tensor"
   ]
  },
  {
   "cell_type": "code",
   "execution_count": 5,
   "metadata": {},
   "outputs": [],
   "source": [
    "import matplotlib as plt\n",
    "import numpy as np\n",
    "import pandas as pd\n",
    "import torch"
   ]
  },
  {
   "cell_type": "code",
   "execution_count": 2,
   "metadata": {},
   "outputs": [
    {
     "name": "stdout",
     "output_type": "stream",
     "text": [
      "2 Dimensional List:  [[11, 12, 13], [21, 22, 23], [31, 32, 33]]\n",
      "2 Dimensional Tensor: \n",
      " tensor([[11, 12, 13],\n",
      "        [21, 22, 23],\n",
      "        [31, 32, 33]])\n"
     ]
    }
   ],
   "source": [
    "# Convert python list to tensors\n",
    "\n",
    "td = [[11, 12, 13], [21, 22, 23], [31, 32, 33]]\n",
    "tnsr_td = torch.tensor(td)\n",
    "print(\"2 Dimensional List: \", td)\n",
    "print(\"2 Dimensional Tensor: \\n\", tnsr_td)"
   ]
  },
  {
   "cell_type": "code",
   "execution_count": 8,
   "metadata": {},
   "outputs": [
    {
     "name": "stdout",
     "output_type": "stream",
     "text": [
      "dimension:  2\n",
      "size:  torch.Size([3, 3])\n",
      "shape:  torch.Size([3, 3])\n",
      "dimension:  9\n"
     ]
    }
   ],
   "source": [
    "print(\"dimension: \", tnsr_td.ndimension())\n",
    "print(\"size: \", tnsr_td.size())\n",
    "print(\"shape: \", tnsr_td.shape)\n",
    "print(\"dimension: \", tnsr_td.numel())"
   ]
  },
  {
   "cell_type": "code",
   "execution_count": 9,
   "metadata": {},
   "outputs": [
    {
     "name": "stdout",
     "output_type": "stream",
     "text": [
      "    a    b\n",
      "0  11   12\n",
      "1  21   22\n",
      "2  31  312\n"
     ]
    }
   ],
   "source": [
    "# Pandas Data frame\n",
    "\n",
    "df = pd.DataFrame({'a':[11,21,31],'b':[12,22,312]})\n",
    "print(df)"
   ]
  },
  {
   "cell_type": "code",
   "execution_count": 10,
   "metadata": {},
   "outputs": [
    {
     "name": "stdout",
     "output_type": "stream",
     "text": [
      "tensor([[ 11,  12],\n",
      "        [ 21,  22],\n",
      "        [ 31, 312]])\n"
     ]
    }
   ],
   "source": [
    "# Convert pandas DataFrame to Tensor\n",
    "\n",
    "ts_df = torch.tensor(df.values)\n",
    "print(ts_df)"
   ]
  },
  {
   "cell_type": "code",
   "execution_count": 13,
   "metadata": {},
   "outputs": [
    {
     "name": "stdout",
     "output_type": "stream",
     "text": [
      "tensor([[1, 2, 3],\n",
      "        [1, 2, 3]])\n",
      "2\n"
     ]
    }
   ],
   "source": [
    "ab = torch.tensor([[1,2,3],[1,2,3]])\n",
    "ab.size()\n",
    "print(ab)\n",
    "print(ab.ndimension())"
   ]
  },
  {
   "cell_type": "code",
   "execution_count": 12,
   "metadata": {},
   "outputs": [
    {
     "name": "stdout",
     "output_type": "stream",
     "text": [
      "tensor([[2, 0],\n",
      "        [0, 2]])\n"
     ]
    }
   ],
   "source": [
    "cd = torch.tensor([[1,0], [0,1]])\n",
    "ef = torch.tensor([[2,1], [1,2]])\n",
    "gh = cd * ef\n",
    "print(gh)"
   ]
  }
 ],
 "metadata": {
  "kernelspec": {
   "display_name": "Python 3",
   "language": "python",
   "name": "python3"
  },
  "language_info": {
   "codemirror_mode": {
    "name": "ipython",
    "version": 3
   },
   "file_extension": ".py",
   "mimetype": "text/x-python",
   "name": "python",
   "nbconvert_exporter": "python",
   "pygments_lexer": "ipython3",
   "version": "3.7.4"
  }
 },
 "nbformat": 4,
 "nbformat_minor": 2
}
